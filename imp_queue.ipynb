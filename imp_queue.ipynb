{
 "cells": [
  {
   "cell_type": "code",
   "execution_count": 12,
   "metadata": {},
   "outputs": [
    {
     "name": "stdout",
     "output_type": "stream",
     "text": [
      "1. Enqueue\n",
      "2. Dequeue\n",
      "3. Exit\n",
      "queued element:  None\n"
     ]
    }
   ],
   "source": [
    "class Stack:\n",
    "    def __init__(self):\n",
    "        self.items = []\n",
    "    \n",
    "    def push(self, item):\n",
    "        self.items.append(item)\n",
    "    \n",
    "    def pop(self):\n",
    "        if not self.is_empty():\n",
    "            return self.items.pop()\n",
    "    \n",
    "    def is_empty(self):\n",
    "        return len(self.items) == 0\n",
    "\n",
    "\n",
    "class QueueUsingStacks:\n",
    "    def __init__(self):\n",
    "        self.stack1 = Stack() \n",
    "        self.stack2 = Stack() \n",
    "    \n",
    "    def enqueue(self, item):\n",
    "        self.stack1.push(item)\n",
    "    \n",
    "    def dequeue(self):\n",
    "        if self.stack2.is_empty():\n",
    "            \n",
    "            while not self.stack1.is_empty():\n",
    "                self.stack2.push(self.stack1.pop())\n",
    "        \n",
    "        return self.stack2.pop()\n",
    "\n",
    "\n",
    "queue = QueueUsingStacks()\n",
    "\n",
    "\n",
    "while True:\n",
    "    print(\"1. Enqueue\")\n",
    "    print(\"2. Dequeue\")\n",
    "    print(\"3. Exit\")\n",
    "    choice = int(input(\"Enter your choice: \"))\n",
    "    \n",
    "    if choice == 1:\n",
    "        item = int(input(\"Enter the element to enqueue: \"))\n",
    "        queue.enqueue(item)\n",
    "        queued_item=queue.enqueue(item)\n",
    "        print(\"queued element: \",queued_item)\n",
    "    elif choice == 2:\n",
    "        dequeued_item = queue.dequeue()\n",
    "        if dequeued_item is not None:\n",
    "            print(\"Dequeued element:\", dequeued_item)\n",
    "        else:\n",
    "            print(\"Queue is empty.\")\n",
    "    elif choice == 3:\n",
    "        break\n",
    "    else:\n",
    "        print(\"Invalid choice. Please try again.\")\n",
    "\n",
    "    break\n"
   ]
  }
 ],
 "metadata": {
  "kernelspec": {
   "display_name": "Python 3",
   "language": "python",
   "name": "python3"
  },
  "language_info": {
   "codemirror_mode": {
    "name": "ipython",
    "version": 3
   },
   "file_extension": ".py",
   "mimetype": "text/x-python",
   "name": "python",
   "nbconvert_exporter": "python",
   "pygments_lexer": "ipython3",
   "version": "3.11.4"
  },
  "orig_nbformat": 4
 },
 "nbformat": 4,
 "nbformat_minor": 2
}
