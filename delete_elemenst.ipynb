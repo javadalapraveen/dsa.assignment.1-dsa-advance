{
 "cells": [
  {
   "cell_type": "code",
   "execution_count": 1,
   "metadata": {},
   "outputs": [
    {
     "name": "stdout",
     "output_type": "stream",
     "text": [
      "Original Linked List:\n",
      "2 -> 3 -> 4 -> None\n",
      "Linked List after deleting zero sum sublists:\n",
      "2 -> 3 -> 4 -> None\n"
     ]
    }
   ],
   "source": [
    "class Node:\n",
    "    def __init__(self, data):\n",
    "        self.data = data\n",
    "        self.next = None\n",
    "\n",
    "class LinkedList:\n",
    "    def __init__(self):\n",
    "        self.head = None\n",
    "    \n",
    "    def insert(self, data):\n",
    "        new_node = Node(data)\n",
    "        if self.head is None:\n",
    "            self.head = new_node\n",
    "        else:\n",
    "            temp = self.head\n",
    "            while temp.next:\n",
    "                temp = temp.next\n",
    "            temp.next = new_node\n",
    "    \n",
    "    def delete_zero_sum_sublists(self):\n",
    "        cumulative_sum = 0\n",
    "        sum_dict = {}\n",
    "        temp = self.head\n",
    "        while temp:\n",
    "            cumulative_sum += temp.data\n",
    "            if cumulative_sum == 0:\n",
    "                \n",
    "                self.head = temp.next\n",
    "                sum_dict.clear()\n",
    "            elif cumulative_sum in sum_dict:\n",
    "                \n",
    "                sum_node = sum_dict[cumulative_sum]\n",
    "                sum_node.next = temp.next\n",
    "            else:\n",
    "                sum_dict[cumulative_sum] = temp\n",
    "            temp = temp.next\n",
    "    \n",
    "    def display(self):\n",
    "        temp = self.head\n",
    "        while temp:\n",
    "            print(temp.data, end=\" -> \")\n",
    "            temp = temp.next\n",
    "        print(\"None\")\n",
    "\n",
    "\n",
    "values = list(map(int, input(\"Enter space-separated values for the linked list: \").split()))\n",
    "\n",
    "\n",
    "ll = LinkedList()\n",
    "for value in values:\n",
    "    ll.insert(value)\n",
    "\n",
    "print(\"Original Linked List:\")\n",
    "ll.display()\n",
    "\n",
    "ll.delete_zero_sum_sublists()\n",
    "\n",
    "print(\"Linked List after deleting zero sum sublists:\")\n",
    "ll.display()"
   ]
  }
 ],
 "metadata": {
  "kernelspec": {
   "display_name": "Python 3",
   "language": "python",
   "name": "python3"
  },
  "language_info": {
   "codemirror_mode": {
    "name": "ipython",
    "version": 3
   },
   "file_extension": ".py",
   "mimetype": "text/x-python",
   "name": "python",
   "nbconvert_exporter": "python",
   "pygments_lexer": "ipython3",
   "version": "3.11.4"
  },
  "orig_nbformat": 4
 },
 "nbformat": 4,
 "nbformat_minor": 2
}
