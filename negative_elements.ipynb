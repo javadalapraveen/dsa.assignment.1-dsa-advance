{
 "cells": [
  {
   "cell_type": "code",
   "execution_count": 2,
   "metadata": {},
   "outputs": [
    {
     "name": "stdout",
     "output_type": "stream",
     "text": [
      "Array after moving negative elements to one side: [-8, -7, -6, -1, -2, 5, 3, 4, 9]\n"
     ]
    }
   ],
   "source": [
    "values = list(map(int, input(\"Enter space-separated values for the array: \").split()))\n",
    "\n",
    "\n",
    "left = 0\n",
    "right = len(values) - 1\n",
    "\n",
    "while left <= right:\n",
    "   \n",
    "    if values[left] < 0:\n",
    "        left += 1\n",
    "  \n",
    "    elif values[right] >= 0:\n",
    "        right -= 1\n",
    "   \n",
    "    else:\n",
    "        values[left], values[right] = values[right], values[left]\n",
    "        left += 1\n",
    "        right -= 1\n",
    "\n",
    "print(\"Array after moving negative elements to one side:\", values)"
   ]
  }
 ],
 "metadata": {
  "kernelspec": {
   "display_name": "Python 3",
   "language": "python",
   "name": "python3"
  },
  "language_info": {
   "codemirror_mode": {
    "name": "ipython",
    "version": 3
   },
   "file_extension": ".py",
   "mimetype": "text/x-python",
   "name": "python",
   "nbconvert_exporter": "python",
   "pygments_lexer": "ipython3",
   "version": "3.11.4"
  },
  "orig_nbformat": 4
 },
 "nbformat": 4,
 "nbformat_minor": 2
}
