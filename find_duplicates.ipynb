{
 "cells": [
  {
   "cell_type": "code",
   "execution_count": 1,
   "metadata": {},
   "outputs": [
    {
     "name": "stdout",
     "output_type": "stream",
     "text": [
      "Duplicates in the array: [2, 3]\n"
     ]
    }
   ],
   "source": [
    "def find_duplicates(arr):\n",
    "    num_dict = {} \n",
    "    duplicates = set()\n",
    "    \n",
    "    \n",
    "    for num in arr:\n",
    "       \n",
    "        if num in num_dict:\n",
    "            duplicates.add(num)  \n",
    "        else:\n",
    "            num_dict[num] = 1  \n",
    "    \n",
    "    return list(duplicates)\n",
    "\n",
    "\n",
    "values = list(map(int, input(\"Enter space-separated values for the array: \").split()))\n",
    "\n",
    "\n",
    "duplicate_elements = find_duplicates(values)\n",
    "\n",
    "if duplicate_elements:\n",
    "    print(f\"Duplicates in the array: {duplicate_elements}\")\n",
    "else:\n",
    "    print(\"No duplicates found in the array.\")"
   ]
  }
 ],
 "metadata": {
  "kernelspec": {
   "display_name": "Python 3",
   "language": "python",
   "name": "python3"
  },
  "language_info": {
   "codemirror_mode": {
    "name": "ipython",
    "version": 3
   },
   "file_extension": ".py",
   "mimetype": "text/x-python",
   "name": "python",
   "nbconvert_exporter": "python",
   "pygments_lexer": "ipython3",
   "version": "3.11.4"
  },
  "orig_nbformat": 4
 },
 "nbformat": 4,
 "nbformat_minor": 2
}
