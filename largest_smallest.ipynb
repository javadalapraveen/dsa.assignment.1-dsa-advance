{
 "cells": [
  {
   "cell_type": "code",
   "execution_count": 3,
   "metadata": {},
   "outputs": [
    {
     "name": "stdout",
     "output_type": "stream",
     "text": [
      "3th Largest number in the array: 7\n",
      "3th Smallest number in the array: 4\n"
     ]
    }
   ],
   "source": [
    "def find_kth_largest(arr, k):\n",
    "    arr.sort(reverse=True)\n",
    "    return arr[k - 1]\n",
    "\n",
    "def find_kth_smallest(arr, k):\n",
    "    arr.sort()\n",
    "    return arr[k - 1]\n",
    "\n",
    "\n",
    "values = list(map(int, input(\"Enter space-separated values for the array: \").split()))\n",
    "k = int(input(\"Enter the value of K: \"))\n",
    "\n",
    "kth_largest = find_kth_largest(values, k)\n",
    "kth_smallest = find_kth_smallest(values, k)\n",
    "\n",
    "print(f\"{k}th Largest number in the array: {kth_largest}\")\n",
    "print(f\"{k}th Smallest number in the array: {kth_smallest}\")"
   ]
  }
 ],
 "metadata": {
  "kernelspec": {
   "display_name": "Python 3",
   "language": "python",
   "name": "python3"
  },
  "language_info": {
   "codemirror_mode": {
    "name": "ipython",
    "version": 3
   },
   "file_extension": ".py",
   "mimetype": "text/x-python",
   "name": "python",
   "nbconvert_exporter": "python",
   "pygments_lexer": "ipython3",
   "version": "3.11.4"
  },
  "orig_nbformat": 4
 },
 "nbformat": 4,
 "nbformat_minor": 2
}
