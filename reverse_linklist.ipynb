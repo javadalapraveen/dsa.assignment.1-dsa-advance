{
 "cells": [
  {
   "cell_type": "code",
   "execution_count": 1,
   "metadata": {},
   "outputs": [
    {
     "name": "stdout",
     "output_type": "stream",
     "text": [
      "Original Linked List:\n",
      "33 -> 4 -> 66 -> 4 -> 99 -> 4 -> 55 -> 3 -> 77 -> None\n",
      "Linked List after reversing in groups of 8:\n",
      "3 -> 55 -> 4 -> 99 -> 4 -> 66 -> 4 -> 33 -> None\n"
     ]
    }
   ],
   "source": [
    "class Node:\n",
    "    def __init__(self, data):\n",
    "        self.data = data\n",
    "        self.next = None\n",
    "\n",
    "class LinkedList:\n",
    "    def __init__(self):\n",
    "        self.head = None\n",
    "    \n",
    "    def insert(self, data):\n",
    "        new_node = Node(data)\n",
    "        if self.head is None:\n",
    "            self.head = new_node\n",
    "        else:\n",
    "            temp = self.head\n",
    "            while temp.next:\n",
    "                temp = temp.next\n",
    "            temp.next = new_node\n",
    "    \n",
    "    def reverse(self, head, k):\n",
    "        prev = None\n",
    "        current = head\n",
    "        next = None\n",
    "        count = 0\n",
    "        \n",
    "        \n",
    "        temp = head\n",
    "        while temp and count < k:\n",
    "            temp = temp.next\n",
    "            count += 1\n",
    "        \n",
    "        \n",
    "        if count == k:\n",
    "            while current and count > 0:\n",
    "                next = current.next\n",
    "                current.next = prev\n",
    "                prev = current\n",
    "                current = next\n",
    "                count -= 1\n",
    "            \n",
    "            \n",
    "            if next:\n",
    "                head.next = self.reverse(next, k)\n",
    "        \n",
    "        return prev\n",
    "    \n",
    "    def reverse_in_groups(self, k):\n",
    "        self.head = self.reverse(self.head, k)\n",
    "    \n",
    "    def display(self):\n",
    "        temp = self.head\n",
    "        while temp:\n",
    "            print(temp.data, end=\" -> \")\n",
    "            temp = temp.next\n",
    "        print(\"None\")\n",
    "\n",
    "\n",
    "values = list(map(int, input(\"Enter space-separated values for the linked list: \").split()))\n",
    "k = int(input(\"Enter the group size: \"))\n",
    "\n",
    "\n",
    "ll = LinkedList()\n",
    "for value in values:\n",
    "    ll.insert(value)\n",
    "\n",
    "print(\"Original Linked List:\")\n",
    "ll.display()\n",
    "\n",
    "ll.reverse_in_groups(k)\n",
    "\n",
    "print(f\"Linked List after reversing in groups of {k}:\")\n",
    "ll.display()"
   ]
  }
 ],
 "metadata": {
  "kernelspec": {
   "display_name": "Python 3",
   "language": "python",
   "name": "python3"
  },
  "language_info": {
   "codemirror_mode": {
    "name": "ipython",
    "version": 3
   },
   "file_extension": ".py",
   "mimetype": "text/x-python",
   "name": "python",
   "nbconvert_exporter": "python",
   "pygments_lexer": "ipython3",
   "version": "3.11.4"
  },
  "orig_nbformat": 4
 },
 "nbformat": 4,
 "nbformat_minor": 2
}
