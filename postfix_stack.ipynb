{
 "cells": [
  {
   "cell_type": "code",
   "execution_count": 2,
   "metadata": {},
   "outputs": [
    {
     "name": "stdout",
     "output_type": "stream",
     "text": [
      "Result: 3\n"
     ]
    }
   ],
   "source": [
    "class Stack:\n",
    "    def __init__(self):\n",
    "        self.items = []\n",
    "    \n",
    "    def push(self, item):\n",
    "        self.items.append(item)\n",
    "    \n",
    "    def pop(self):\n",
    "        if not self.is_empty():\n",
    "            return self.items.pop()\n",
    "    \n",
    "    def is_empty(self):\n",
    "        return len(self.items) == 0\n",
    "\n",
    "\n",
    "def evaluate_postfix(expression):\n",
    "    stack = Stack()\n",
    "    operators = set(['+', '-', '*', '/'])\n",
    "    \n",
    "    for char in expression:\n",
    "        if char not in operators:\n",
    "            \n",
    "            stack.push(int(char))\n",
    "        else:\n",
    "            \n",
    "            operand2 = stack.pop()\n",
    "            operand1 = stack.pop()\n",
    "            if char == '+':\n",
    "                stack.push(operand1 + operand2)\n",
    "            elif char == '-':\n",
    "                stack.push(operand1 - operand2)\n",
    "            elif char == '*':\n",
    "                stack.push(operand1 * operand2)\n",
    "            elif char == '/':\n",
    "                stack.push(operand1 / operand2) \n",
    "            \n",
    "   \n",
    "    return stack.pop()\n",
    "\n",
    "\n",
    "postfix_expression = input(\"Enter a postfix expression: \")\n",
    "\n",
    "\n",
    "result = evaluate_postfix(postfix_expression)\n",
    "\n",
    "print(\"Result:\", result)"
   ]
  }
 ],
 "metadata": {
  "kernelspec": {
   "display_name": "Python 3",
   "language": "python",
   "name": "python3"
  },
  "language_info": {
   "codemirror_mode": {
    "name": "ipython",
    "version": 3
   },
   "file_extension": ".py",
   "mimetype": "text/x-python",
   "name": "python",
   "nbconvert_exporter": "python",
   "pygments_lexer": "ipython3",
   "version": "3.11.4"
  },
  "orig_nbformat": 4
 },
 "nbformat": 4,
 "nbformat_minor": 2
}
