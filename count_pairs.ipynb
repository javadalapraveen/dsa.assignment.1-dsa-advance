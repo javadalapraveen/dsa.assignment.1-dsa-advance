{
 "cells": [
  {
   "cell_type": "code",
   "execution_count": 3,
   "metadata": {},
   "outputs": [
    {
     "name": "stdout",
     "output_type": "stream",
     "text": [
      "Number of pairs with sum 23: 0\n"
     ]
    }
   ],
   "source": [
    "def count_pairs_with_sum(arr, target_sum):\n",
    "    count = 0\n",
    "    num_dict = {} \n",
    "    \n",
    "\n",
    "    for num in arr:\n",
    "        complement = target_sum - num\n",
    "        \n",
    "      \n",
    "        if complement in num_dict:\n",
    "            count += num_dict[complement] \n",
    "        \n",
    "       \n",
    "        num_dict[num] = num_dict.get(num, 0) + 1\n",
    "    \n",
    "    return count\n",
    "\n",
    "\n",
    "values = list(map(int, input(\"Enter space-separated values for the array: \").split()))\n",
    "target_sum = int(input(\"Enter the target sum: \"))\n",
    "\n",
    "\n",
    "pair_count = count_pairs_with_sum(values, target_sum)\n",
    "\n",
    "print(f\"Number of pairs with sum {target_sum}: {pair_count}\")"
   ]
  }
 ],
 "metadata": {
  "kernelspec": {
   "display_name": "Python 3",
   "language": "python",
   "name": "python3"
  },
  "language_info": {
   "codemirror_mode": {
    "name": "ipython",
    "version": 3
   },
   "file_extension": ".py",
   "mimetype": "text/x-python",
   "name": "python",
   "nbconvert_exporter": "python",
   "pygments_lexer": "ipython3",
   "version": "3.11.4"
  },
  "orig_nbformat": 4
 },
 "nbformat": 4,
 "nbformat_minor": 2
}
